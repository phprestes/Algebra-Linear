{
  "cells": [
    {
      "cell_type": "markdown",
      "metadata": {
        "id": "vvAuA4YEtFbO"
      },
      "source": [
        "\n",
        "\n",
        "---\n",
        "\n",
        "##  Isometrias no Plano via Matrizes\n",
        "\n",
        "### **Objetivo**\n",
        "\n",
        "Explorar as principais **isometrias no plano**  — **rotação**, **reflexão**, **translação** e **composições** — utilizando **representações matriciais** e verificando suas propriedades geométricas por meio de código e visualização gráfica.\n",
        "\n",
        "---\n",
        "\n",
        "\n",
        "\n",
        "Considere o triângulo  $ABC$ , com vértices definidos por:\n",
        "\n",
        "*  A = (1, 1)\n",
        "*  B = (3, 1)\n",
        "*  C = (2, 3)\n",
        "\n",
        "Represente o triângulo como uma matriz, onde cada **coluna** é um ponto:\n",
        "\n",
        "\n",
        "T=\n",
        "$\\begin{bmatrix}\n",
        "1 & 3 & 2 \\\\\n",
        "1 & 1 & 3\n",
        "\\end{bmatrix}$\n",
        "\n",
        "\n",
        "\n",
        " Escreva as **matrizes** das seguintes transformações:\n",
        "\n",
        "   a) **Reflexão** em relação ao eixo $x$\n",
        "\n",
        "   b) **Reflexão** em relação à reta $y = x$\n",
        "\n",
        "   c) **Rotação** no sentido anti-horário em torno da origem por um ângulo genérico $\\theta$ (em graus)\n",
        "\n",
        "Dica: use a fórmula\n",
        "\n",
        "  $R_\\theta = $\n",
        "\\begin{bmatrix}\n",
        "\\cos(\\theta) & -\\sin(\\theta) \\\\\n",
        "\\sin(\\theta) & \\cos(\\theta)\n",
        "\\end{bmatrix}\n",
        "\n",
        "  \n",
        "\n",
        "   d) **Translação** pelo vetor $\\vec{v} = (2, -1)$\n",
        "\n",
        "---\n",
        "\n",
        "##  Aplicações Diretas\n",
        "\n",
        " Aplique **individualmente** cada transformação ao triângulo $T$, utilizando:\n",
        "\n",
        " Multiplicação de matrizes $T' = A \\cdot T$, para isometrias lineares e soma vetorial $T' = A \\cdot T + \\vec{v}$, quando houver translação\n",
        "\n",
        " Visualize (graficamente) o triângulo original e cada triângulo transformado.\n",
        "\n",
        "---\n",
        " Composição de Isometrias\n",
        "\n",
        " Considere a seguinte composição de transformações:\n",
        "\n",
        "   * Primeiro: **rotação** de $\\theta = 90^\\circ$\n",
        "   * Depois: **reflexão** no eixo $x$\n",
        "\n",
        "   a) Escreva a **matriz composta** $M = R_x \\cdot R_{90}$\n",
        "\n",
        "   b) Aplique $M$ ao triângulo $T$ e visualize o resultado.\n",
        "\n",
        "   c) Interprete geometricamente o efeito da transformação composta. O que ela faz com o triângulo?\n",
        "\n",
        " Escolha um valor arbitrário de $\\theta$ (por exemplo, $45^\\circ$) e repita os passos acima.\n",
        "\n",
        "\n",
        "\n",
        "# Análise Geométrica\n",
        "\n",
        " Após cada isometria ou composição:\n",
        "\n",
        "   a) As **distâncias** entre os vértices são preservadas?\n",
        "\n",
        "   b) Os **ângulos** internos permanecem os mesmos?\n",
        "\n",
        "   Justifique com código ou cálculo. Lembre-se: **isometrias preservam distâncias e ângulos**.\n",
        "\n",
        "---\n",
        "\n",
        "##  Desafio Extra\n",
        "\n",
        " Implemente uma função que recebe:\n",
        "\n",
        "   * Um conjunto de pontos $P$\n",
        "   * Um tipo de isometria\n",
        "   * Parâmetros (ângulo, vetor de translação, etc.)\n",
        "\n",
        "   E retorna a imagem transformada $P'$. Use essa função para aplicar sequências arbitrárias de transformações ao triângulo.\n",
        "\n",
        "\n",
        "##  Matrizes úteis para referência\n",
        "\n",
        "* **Reflexão sobre o eixo $x$:**\n",
        "  \n",
        " $ R_x = $\n",
        "  $\\begin{bmatrix}\n",
        "  1 & 0 \\\\\n",
        "  0 & -1\n",
        "  \\end{bmatrix}\n",
        "  $\n",
        "\n",
        "* **Reflexão na reta $y = x$:**\n",
        " $\n",
        "  R_{y=x} = $\n",
        "  $\\begin{bmatrix}\n",
        "  0 & 1 \\\\\n",
        "  1 & 0\n",
        "  \\end{bmatrix}\n",
        "  $\n",
        "\n",
        "* **Rotação de $\\theta$ graus anti-horária:**\n",
        " $\n",
        "  R_\\theta =$\n",
        " $ \\begin{bmatrix}\n",
        "  \\cos \\theta & -\\sin \\theta \\\\\n",
        "  \\sin \\theta & \\cos \\theta\n",
        "  \\end{bmatrix}\n",
        "  $\n",
        "\n",
        "* **Translação por vetor $\\vec{v} = (a, b)$:**\n",
        "  $\n",
        "  T(\\vec{x}) = \\vec{x} + \\vec{v}\n",
        "  $\n",
        "\n"
      ]
    },
    {
      "cell_type": "code",
      "execution_count": 40,
      "metadata": {
        "id": "JaGEjwCEtEOX"
      },
      "outputs": [
        {
          "data": {
            "text/plain": [
              "array([[1, 3, 2],\n",
              "       [1, 1, 3]])"
            ]
          },
          "execution_count": 40,
          "metadata": {},
          "output_type": "execute_result"
        }
      ],
      "source": [
        "import numpy as np\n",
        "import matplotlib.pyplot as plt\n",
        "\n",
        "def plotar(T):\n",
        "    x_coords = T[0, :]\n",
        "    y_coords = T[1, :]\n",
        "    x_plot = np.append(x_coords, x_coords[0])\n",
        "    y_plot = np.append(y_coords, y_coords[0])\n",
        "\n",
        "    plt.figure(figsize=(6, 6))\n",
        "    plt.xlim(-5, 5)\n",
        "    plt.ylim(-5, 5)\n",
        "    \n",
        "    plt.axhline(y=0, color='k', linestyle='-', alpha=0.3)\n",
        "    plt.axvline(x=0, color='k', linestyle='-', alpha=0.3)\n",
        "    \n",
        "    plt.plot(x_plot, y_plot, 'bo-')\n",
        "    plt.grid(True)\n",
        "    plt.show()\n",
        "    \n",
        "A = [1, 1]\n",
        "B = [3, 1]\n",
        "C = [2, 3]\n",
        "T = np.array([A, B, C]).T\n",
        "\n",
        "T"
      ]
    },
    {
      "cell_type": "code",
      "execution_count": 41,
      "metadata": {},
      "outputs": [
        {
          "data": {
            "image/png": "[encoded data removed]",
            "text/plain": [
              "<Figure size 600x600 with 1 Axes>"
            ]
          },
          "metadata": {},
          "output_type": "display_data"
        }
      ],
      "source": [
        "plotar(T)"
      ]
    },
    {
      "cell_type": "code",
      "execution_count": 4,
      "metadata": {},
      "outputs": [
        {
          "data": {
            "text/plain": [
              "array([[ 1,  3,  2],\n",
              "       [-1, -1, -3]])"
            ]
          },
          "execution_count": 4,
          "metadata": {},
          "output_type": "execute_result"
        }
      ],
      "source": [
        "# Reflexão no Eixo x\n",
        "R_x = np.array([[1, 0],\n",
        "                [0, -1]])\n",
        "\n",
        "R_x @ T"
      ]
    },
    {
      "cell_type": "code",
      "execution_count": 42,
      "metadata": {},
      "outputs": [
        {
          "data": {
            "image/png": "[encoded data removed]",
            "text/plain": [
              "<Figure size 600x600 with 1 Axes>"
            ]
          },
          "metadata": {},
          "output_type": "display_data"
        }
      ],
      "source": [
        "plotar(R_x @ T)"
      ]
    },
    {
      "cell_type": "code",
      "execution_count": 43,
      "metadata": {},
      "outputs": [
        {
          "data": {
            "text/plain": [
              "array([[1, 1, 3],\n",
              "       [1, 3, 2]])"
            ]
          },
          "execution_count": 43,
          "metadata": {},
          "output_type": "execute_result"
        }
      ],
      "source": [
        "# Reflexão y = x\n",
        "R_yx = np.array([[0, 1],\n",
        "                 [1, 0]])\n",
        "\n",
        "R_yx @ T"
      ]
    },
    {
      "cell_type": "code",
      "execution_count": 44,
      "metadata": {},
      "outputs": [
        {
          "data": {
            "image/png": "[encoded data removed]",
            "text/plain": [
              "<Figure size 600x600 with 1 Axes>"
            ]
          },
          "metadata": {},
          "output_type": "display_data"
        }
      ],
      "source": [
        "plotar(R_yx @ T)"
      ]
    },
    {
      "cell_type": "code",
      "execution_count": null,
      "metadata": {},
      "outputs": [
        {
          "data": {
            "text/plain": [
              "array([[-1., -3., -2.],\n",
              "       [-1., -1., -3.]])"
            ]
          },
          "execution_count": 46,
          "metadata": {},
          "output_type": "execute_result"
        }
      ],
      "source": [
        "# Rotação antihorário\n",
        "def R_theta(theta):\n",
        "    return np.array([[np.cos(theta), -np.sin(theta)],\n",
        "                     [np.sin(theta), np.cos(theta)]])\n",
        "\n",
        "R_theta(np.pi) @ T"
      ]
    },
    {
      "cell_type": "code",
      "execution_count": 48,
      "metadata": {},
      "outputs": [
        {
          "data": {
            "image/png": "[encoded data removed]",
            "text/plain": [
              "<Figure size 600x600 with 1 Axes>"
            ]
          },
          "metadata": {},
          "output_type": "display_data"
        }
      ],
      "source": [
        "plotar(R_theta(np.pi/2) @ T)"
      ]
    },
    {
      "cell_type": "code",
      "execution_count": 56,
      "metadata": {},
      "outputs": [
        {
          "data": {
            "text/plain": [
              "array([[3, 5, 4],\n",
              "       [0, 0, 2]])"
            ]
          },
          "execution_count": 56,
          "metadata": {},
          "output_type": "execute_result"
        }
      ],
      "source": [
        "# Translação pelo vetor v\n",
        "v = np.array([2, -1])\n",
        "T + v[:, np.newaxis]"
      ]
    },
    {
      "cell_type": "code",
      "execution_count": 57,
      "metadata": {},
      "outputs": [
        {
          "data": {
            "image/png": "[encoded data removed]",
            "text/plain": [
              "<Figure size 600x600 with 1 Axes>"
            ]
          },
          "metadata": {},
          "output_type": "display_data"
        }
      ],
      "source": [
        "plotar(T + v[:, np.newaxis])"
      ]
    },
    {
      "cell_type": "code",
      "execution_count": 63,
      "metadata": {},
      "outputs": [
        {
          "data": {
            "text/plain": [
              "array([[ 0., -1.],\n",
              "       [-1., -0.]])"
            ]
          },
          "execution_count": 63,
          "metadata": {},
          "output_type": "execute_result"
        }
      ],
      "source": [
        "# Matriz composta\n",
        "M = R_x @ R_theta(np.pi/2)\n",
        "np.round(M, 2)"
      ]
    },
    {
      "cell_type": "code",
      "execution_count": null,
      "metadata": {},
      "outputs": [
        {
          "data": {
            "image/png": "[encoded data removed]",
            "text/plain": [
              "<Figure size 600x600 with 1 Axes>"
            ]
          },
          "metadata": {},
          "output_type": "display_data"
        }
      ],
      "source": [
        "plotar(M @ T)\n",
        "# Conclusão: Composição de Isometrias geram isometrias"
      ]
    },
    {
      "cell_type": "code",
      "execution_count": 70,
      "metadata": {},
      "outputs": [
        {
          "name": "stdout",
          "output_type": "stream",
          "text": [
            "Distâncias Preservadas ✅\n",
            "Ângulos Preservados ✅\n",
            "Distâncias Preservadas ✅\n",
            "Ângulos Preservados ✅\n",
            "Distâncias Preservadas ✅\n",
            "Ângulos Preservados ✅\n",
            "Distâncias Preservadas ✅\n",
            "Ângulos Preservados ✅\n"
          ]
        }
      ],
      "source": [
        "# Checando a preservação de distâncias e ângulos\n",
        "\n",
        "def calcula_distancias(T):\n",
        "    A, B, C = T[:, 0], T[:, 1], T[:, 2]\n",
        "    AB = np.round(np.linalg.norm(A - B), 2)\n",
        "    AC = np.round(np.linalg.norm(A - C), 2)\n",
        "    CB = np.round(np.linalg.norm(C - B), 2)\n",
        "\n",
        "    return AB, AC, CB\n",
        "\n",
        "def calcula_angulos(T):\n",
        "    A, B, C = T[:, 0], T[:, 1], T[:, 2]\n",
        "    \n",
        "    AB = B - A\n",
        "    AC = C - A\n",
        "    BA = A - B\n",
        "    BC = C - B\n",
        "    CA = A - C\n",
        "    CB = B - C\n",
        "    \n",
        "    # Ângulos usando produto escalar\n",
        "    angulo_A = np.round(np.degrees(np.arccos(np.dot(AB, AC) / (np.linalg.norm(AB) * np.linalg.norm(AC)))), 2)\n",
        "    angulo_B = np.round(np.degrees(np.arccos(np.dot(BA, BC) / (np.linalg.norm(BA) * np.linalg.norm(BC)))), 2)\n",
        "    angulo_C = np.round(np.degrees(np.arccos(np.dot(CA, CB) / (np.linalg.norm(CA) * np.linalg.norm(CB)))), 2)\n",
        "\n",
        "    return angulo_A, angulo_B, angulo_C\n",
        "\n",
        "distancias_originais = calcula_distancias(T)\n",
        "angulos_originais = calcula_angulos(T)\n",
        "for T_atual in [R_x @ T, R_yx @ T, R_theta(np.pi/4) @ T, T + v[:, np.newaxis]]:\n",
        "    distancias_transformadas = calcula_distancias(T_atual)\n",
        "    angulos_transformados = calcula_angulos(T_atual)\n",
        "\n",
        "    if distancias_transformadas == distancias_originais:\n",
        "        print('Distâncias Preservadas ✅')\n",
        "    else:\n",
        "        print('Distâncias NÃO preservadas ❌')\n",
        "        print(distancias_originais, distancias_transformadas)\n",
        "\n",
        "    if angulos_transformados == angulos_originais:\n",
        "        print('Ângulos Preservados ✅')\n",
        "    else:\n",
        "        print('Ângulos NÃO Preservados ❌')\n",
        "        print(angulos_originais, angulos_transformados)"
      ]
    },
    {
      "cell_type": "code",
      "execution_count": 71,
      "metadata": {},
      "outputs": [],
      "source": [
        "def aplicar_isometria(P, tipo_isometria, **params):\n",
        "    \"\"\"\n",
        "    Aplica uma isometria a um conjunto de pontos P\n",
        "    \n",
        "    Parâmetros:\n",
        "    P: array 2xn com n pontos (cada coluna é um ponto)\n",
        "    tipo_isometria: 'rotacao', 'reflexao_x', 'reflexao_y', 'reflexao_reta', \n",
        "                    'translacao', 'identidade', 'composta'\n",
        "    **params: parâmetros específicos para cada isometria\n",
        "    \"\"\"\n",
        "    \n",
        "    # Converter para coordenadas homogêneas se necessário\n",
        "    if P.shape[0] == 2:\n",
        "        P_homogeneo = np.vstack([P, np.ones(P.shape[1])])\n",
        "    else:\n",
        "        P_homogeneo = P.copy()\n",
        "\n",
        "    def _matriz_rotacao(angulo, centro=None, graus=True):\n",
        "        \"\"\"Matriz de rotação (ângulo em radianos ou graus)\"\"\"\n",
        "        if graus:\n",
        "            angulo = np.radians(angulo)\n",
        "        \n",
        "        R = np.array([\n",
        "            [np.cos(angulo), -np.sin(angulo), 0],\n",
        "            [np.sin(angulo), np.cos(angulo), 0],\n",
        "            [0, 0, 1]\n",
        "        ])\n",
        "    \n",
        "        # Se centro especificado, fazer rotação em torno do centro\n",
        "        if centro is not None:\n",
        "            cx, cy = centro\n",
        "            T1 = np.array([[1, 0, -cx], [0, 1, -cy], [0, 0, 1]])  # Translação para origem\n",
        "            T2 = np.array([[1, 0, cx], [0, 1, cy], [0, 0, 1]])    # Translação de volta\n",
        "            R = T2 @ R @ T1\n",
        "        \n",
        "        return R\n",
        "\n",
        "    def _matriz_reflexao_x():\n",
        "        \"\"\"Reflexão no eixo x\"\"\"\n",
        "        return np.array([[1, 0, 0], [0, -1, 0], [0, 0, 1]])\n",
        "\n",
        "    def _matriz_reflexao_y():\n",
        "        \"\"\"Reflexão no eixo y\"\"\"\n",
        "        return np.array([[-1, 0, 0], [0, 1, 0], [0, 0, 1]])\n",
        "\n",
        "    def _matriz_reflexao_reta(reta='y=x'):\n",
        "        \"\"\"Reflexão em relação a uma reta\"\"\"\n",
        "        if reta == 'y=x':\n",
        "            return np.array([[0, 1, 0], [1, 0, 0], [0, 0, 1]])\n",
        "        elif reta == 'y=-x':\n",
        "            return np.array([[0, -1, 0], [-1, 0, 0], [0, 0, 1]])\n",
        "        else:\n",
        "            raise ValueError(f\"Reta não reconhecida: {reta}\")\n",
        "\n",
        "    def _matriz_translacao(vetor):\n",
        "        \"\"\"Translação por um vetor\"\"\"\n",
        "        dx, dy = vetor\n",
        "        return np.array([[1, 0, dx], [0, 1, dy], [0, 0, 1]])\n",
        "\n",
        "    def _matriz_composta(transformacoes):\n",
        "        \"\"\"Composição de múltiplas transformações\"\"\"\n",
        "        M = np.eye(3)\n",
        "        for transformacao in transformacoes:\n",
        "            M = transformacao @ M\n",
        "        return M\n",
        "    \n",
        "    # Matriz de transformação\n",
        "    if tipo_isometria == 'rotacao':\n",
        "        M = _matriz_rotacao(**params)\n",
        "    elif tipo_isometria == 'reflexao_x':\n",
        "        M = _matriz_reflexao_x()\n",
        "    elif tipo_isometria == 'reflexao_y':\n",
        "        M = _matriz_reflexao_y()\n",
        "    elif tipo_isometria == 'reflexao_reta':\n",
        "        M = _matriz_reflexao_reta(**params)\n",
        "    elif tipo_isometria == 'translacao':\n",
        "        M = _matriz_translacao(**params)\n",
        "    elif tipo_isometria == 'identidade':\n",
        "        M = np.eye(3)\n",
        "    elif tipo_isometria == 'composta':\n",
        "        M = _matriz_composta(**params)\n",
        "    else:\n",
        "        raise ValueError(f\"Tipo de isometria não reconhecido: {tipo_isometria}\")\n",
        "    \n",
        "    # Aplicar transformação\n",
        "    P_transformado_h = M @ P_homogeneo\n",
        "    \n",
        "    # Converter de volta para coordenadas cartesianas se necessário\n",
        "    if P.shape[0] == 2:\n",
        "        return P_transformado_h[:2, :]\n",
        "    else:\n",
        "        return P_transformado_h"
      ]
    },
    {
      "cell_type": "code",
      "execution_count": 74,
      "metadata": {},
      "outputs": [
        {
          "data": {
            "image/png": "[encoded data removed]",
            "text/plain": [
              "<Figure size 600x600 with 1 Axes>"
            ]
          },
          "metadata": {},
          "output_type": "display_data"
        }
      ],
      "source": [
        "plotar(aplicar_isometria(T, 'rotacao', angulo=90))"
      ]
    }
  ],
  "metadata": {
    "colab": {
      "provenance": []
    },
    "kernelspec": {
      "display_name": ".venv (3.13.5)",
      "language": "python",
      "name": "python3"
    },
    "language_info": {
      "codemirror_mode": {
        "name": "ipython",
        "version": 3
      },
      "file_extension": ".py",
      "mimetype": "text/x-python",
      "name": "python",
      "nbconvert_exporter": "python",
      "pygments_lexer": "ipython3",
      "version": "3.13.5"
    }
  },
  "nbformat": 4,
  "nbformat_minor": 0
}
