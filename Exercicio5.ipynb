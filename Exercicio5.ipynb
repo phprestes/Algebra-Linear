{
  "cells": [
    {
      "cell_type": "markdown",
      "metadata": {
        "id": "mGsa45M5zkAV"
      },
      "source": [
        "**Exercício 01**\n",
        "\n",
        "Construa o operador linear diagonalizável $T:\\mathbb{R}^3 \\to \\mathbb{R}^3$ que tenha $2$ e $9$ como autovalores de modo que os autoespaços sejam $V(2) = [(1,2,0),(0,6,1)]$ e $V(9) = [(1,1,1)]$."
      ]
    },
    {
      "cell_type": "markdown",
      "metadata": {},
      "source": [
        "Pelas informações do enunciado, sabemos que:\n",
        "\n",
        "$T(1,2,0) = (2,4,0)$\n",
        "\n",
        "$T(0,6,1) = (0,12,2)$\n",
        "\n",
        "$T(1,1,1) = (9,9,9)$\n",
        "\n",
        "Podemos verificar que $B = [(1,2,0), (0,6,1), (1,1,1)]$ é uma base de $\\mathbb{R}^3$"
      ]
    },
    {
      "cell_type": "code",
      "execution_count": 2,
      "metadata": {
        "id": "hIdWTV5Lzs-O"
      },
      "outputs": [
        {
          "name": "stdout",
          "output_type": "stream",
          "text": [
            "É LI e é base\n"
          ]
        },
        {
          "data": {
            "text/plain": [
              "np.float64(7.0)"
            ]
          },
          "execution_count": 2,
          "metadata": {},
          "output_type": "execute_result"
        }
      ],
      "source": [
        "import numpy as np\n",
        "\n",
        "B = np.array([[1,2,0], \n",
        "              [0,6,1], \n",
        "              [1,1,1]]).T\n",
        "\n",
        "if np.linalg.det(B) == 0:\n",
        "    print(\"Não é LI, portanto não é base\")\n",
        "else:\n",
        "    print(\"É LI e é base\")\n",
        "\n",
        "np.round(np.linalg.det(B), 2)"
      ]
    },
    {
      "cell_type": "markdown",
      "metadata": {},
      "source": [
        "Podemos usar B para montar uma matriz de transformação linear e converter para a canônica usando $[T] = P^{-1} [T]_{B} P$ "
      ]
    },
    {
      "cell_type": "code",
      "execution_count": null,
      "metadata": {},
      "outputs": [
        {
          "data": {
            "text/plain": [
              "array([[ 4., -1.,  6.],\n",
              "       [ 2.,  1.,  6.],\n",
              "       [ 2., -1.,  8.]])"
            ]
          },
          "execution_count": 16,
          "metadata": {},
          "output_type": "execute_result"
        }
      ],
      "source": [
        "# Matriz T_B já escrito na canônica\n",
        "T_B_canon = np.array([[2,4,0],\n",
        "                      [0,12,2],\n",
        "                      [9,9,9]]).T\n",
        "\n",
        "# Matriz de B para a canônica\n",
        "P = np.linalg.inv(B)\n",
        "\n",
        "# Matriz de transformação linear na canônica\n",
        "T = T_B_canon @ P\n",
        "np.round(T, 2)"
      ]
    },
    {
      "cell_type": "markdown",
      "metadata": {
        "id": "xVoknYO6ztS9"
      },
      "source": [
        "**Exercício 02**\n",
        "\n",
        "Construa uma transformação linear que mapeia o vetor $\\mathbf{v}=[1,1,1,1,1]\\in\\mathbb{R}^5$ nele mesmo, ou seja, a transformação deve satisfazer $\\mathbf{A}\\mathbf{v}=\\mathbf{v}$."
      ]
    },
    {
      "cell_type": "code",
      "execution_count": 24,
      "metadata": {
        "id": "mVRq6DPTzzGV"
      },
      "outputs": [
        {
          "name": "stdout",
          "output_type": "stream",
          "text": [
            "A é válido\n"
          ]
        },
        {
          "data": {
            "text/plain": [
              "array([[1., 0., 0., 0., 0.],\n",
              "       [0., 1., 0., 0., 0.],\n",
              "       [0., 0., 1., 0., 0.],\n",
              "       [0., 0., 0., 1., 0.],\n",
              "       [0., 0., 0., 0., 1.]])"
            ]
          },
          "execution_count": 24,
          "metadata": {},
          "output_type": "execute_result"
        }
      ],
      "source": [
        "# v é autovetor associado ao autovalor 1, a solução trivial para A é a identidade, já que Iv = v\n",
        "v = np.array([1,1,1,1,1]).T\n",
        "A = np.eye(5)\n",
        "\n",
        "if (A @ v == v).all():\n",
        "    print(\"A é válido\")\n",
        "    \n",
        "A"
      ]
    }
  ],
  "metadata": {
    "colab": {
      "provenance": []
    },
    "kernelspec": {
      "display_name": ".venv (3.13.5)",
      "language": "python",
      "name": "python3"
    },
    "language_info": {
      "codemirror_mode": {
        "name": "ipython",
        "version": 3
      },
      "file_extension": ".py",
      "mimetype": "text/x-python",
      "name": "python",
      "nbconvert_exporter": "python",
      "pygments_lexer": "ipython3",
      "version": "3.13.5"
    }
  },
  "nbformat": 4,
  "nbformat_minor": 0
}
