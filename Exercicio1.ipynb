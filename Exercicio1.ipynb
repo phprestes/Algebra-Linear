{
  "cells": [
    {
      "cell_type": "markdown",
      "metadata": {
        "id": "6tqurAXg9AGv"
      },
      "source": [
        "\n",
        "\n",
        "\n",
        "\n",
        "#### Exercício - Subespaço Gerado\n",
        "\n",
        "Seja $W$ o subespaço de $M_{3\\times2}(\\mathbb{R})$ gerado pelas matrizes\n",
        "\n",
        "$$A_1 = \\begin{bmatrix} 0 & 0 \\\\ 1 & 1 \\\\ 0 & 0 \\end{bmatrix} , \\;\n",
        "A_2 = \\begin{bmatrix} 0 & 1 \\\\ 0 & -1 \\\\ 1 & 0 \\end{bmatrix} \\; \\text{e} \\;\n",
        "A_3 = \\begin{bmatrix} 0 & 1 \\\\ 0 & 0 \\\\ 0 & 0 \\end{bmatrix} .$$\n",
        "\n",
        "Implemente um código para verificar se a matriz $$A = \\begin{bmatrix} 0 & 2 \\\\ 3 & 4 \\\\ 5 & 0 \\end{bmatrix}$$ pertence ao subespaço $W$."
      ]
    },
    {
      "cell_type": "code",
      "execution_count": 9,
      "metadata": {},
      "outputs": [
        {
          "name": "stdout",
          "output_type": "stream",
          "text": [
            "Requirement already satisfied: numpy in ./.venv/lib/python3.13/site-packages (2.3.2)\n",
            "\n",
            "\u001b[1m[\u001b[0m\u001b[34;49mnotice\u001b[0m\u001b[1;39;49m]\u001b[0m\u001b[39;49m A new release of pip is available: \u001b[0m\u001b[31;49m25.1.1\u001b[0m\u001b[39;49m -> \u001b[0m\u001b[32;49m25.2\u001b[0m\n",
            "\u001b[1m[\u001b[0m\u001b[34;49mnotice\u001b[0m\u001b[1;39;49m]\u001b[0m\u001b[39;49m To update, run: \u001b[0m\u001b[32;49mpip install --upgrade pip\u001b[0m\n"
          ]
        }
      ],
      "source": [
        "!pip install numpy"
      ]
    },
    {
      "cell_type": "code",
      "execution_count": 10,
      "metadata": {
        "id": "cvmyH0YJZOpk"
      },
      "outputs": [
        {
          "data": {
            "text/plain": [
              "array([0, 2, 3, 4, 5, 0])"
            ]
          },
          "execution_count": 10,
          "metadata": {},
          "output_type": "execute_result"
        }
      ],
      "source": [
        "import numpy as np\n",
        "\n",
        "# Declarando as matrizes\n",
        "A1 = np.array([[0, 0], [1, 1], [0, 0]])\n",
        "A2 = np.array([[0, 1], [0, -1], [1, 0]])\n",
        "A3 = np.array([[0, 1], [0, 0], [0, 0]])\n",
        "A = np.array([[0, 2], [3, 4], [5, 0]])\n",
        "\n",
        "A.flatten()"
      ]
    },
    {
      "cell_type": "code",
      "execution_count": 11,
      "metadata": {},
      "outputs": [
        {
          "data": {
            "text/plain": [
              "array([[ 0,  0,  0],\n",
              "       [ 0,  1,  1],\n",
              "       [ 1,  0,  0],\n",
              "       [ 1, -1,  0],\n",
              "       [ 0,  1,  0],\n",
              "       [ 0,  0,  0]])"
            ]
          },
          "execution_count": 11,
          "metadata": {},
          "output_type": "execute_result"
        }
      ],
      "source": [
        "# Criando a matriz de coeficientes\n",
        "M = np.column_stack([A1.flatten(), A2.flatten(), A3.flatten()])\n",
        "M"
      ]
    },
    {
      "cell_type": "code",
      "execution_count": 12,
      "metadata": {},
      "outputs": [
        {
          "data": {
            "text/plain": [
              "(array([ 5.,  3., -1.]), array([12.]))"
            ]
          },
          "execution_count": 12,
          "metadata": {},
          "output_type": "execute_result"
        }
      ],
      "source": [
        "# Resolvendo o sistema\n",
        "coeficientes, residuo, _, _ = np.linalg.lstsq(M, A.flatten())\n",
        "\n",
        "coeficientes, residuo"
      ]
    },
    {
      "cell_type": "code",
      "execution_count": 13,
      "metadata": {},
      "outputs": [
        {
          "name": "stdout",
          "output_type": "stream",
          "text": [
            "NAO TA NAO\n"
          ]
        }
      ],
      "source": [
        "# Vendo se ela pertence ao subespaço\n",
        "if np.allclose(M @ coeficientes, A.flatten()):\n",
        "    print(\"ESTA SIM\")\n",
        "else:\n",
        "    print(\"NAO TA NAO\")"
      ]
    }
  ],
  "metadata": {
    "colab": {
      "provenance": []
    },
    "kernelspec": {
      "display_name": ".venv (3.13.5)",
      "language": "python",
      "name": "python3"
    },
    "language_info": {
      "codemirror_mode": {
        "name": "ipython",
        "version": 3
      },
      "file_extension": ".py",
      "mimetype": "text/x-python",
      "name": "python",
      "nbconvert_exporter": "python",
      "pygments_lexer": "ipython3",
      "version": "3.13.5"
    }
  },
  "nbformat": 4,
  "nbformat_minor": 0
}
